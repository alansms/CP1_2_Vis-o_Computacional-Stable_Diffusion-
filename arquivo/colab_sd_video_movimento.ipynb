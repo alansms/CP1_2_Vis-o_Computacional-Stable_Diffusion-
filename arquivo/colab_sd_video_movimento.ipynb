{
  "cells": [
    {
      "cell_type": "markdown",
      "metadata": {},
      "source": [
        "# 🎬 Notebook com MOVIMENTO REAL: Homer Simpson Animado\n",
        "\n",
        "**Objetivo:** Criar movimento natural e específico do Homer Simpson\n",
        "\n",
        "**Movimentos planejados:**\n",
        "- 👁️ Piscar os olhos\n",
        "- 🤚 Movimentar os braços\n",
        "- 😮 Mudar expressões faciais\n",
        "- 👂 Mexer a cabeça\n",
        "- 😊 Sorrisos e caretas\n",
        "\n",
        "**Estratégia:**\n",
        "- ✅ Prompts específicos para cada movimento\n",
        "- ✅ Strength balanceado (0.4-0.5) para permitir mudanças\n",
        "- ✅ Sequência de movimentos naturais\n",
        "- ✅ Manter identidade do personagem\n"
      ]
    },
    {
      "cell_type": "code",
      "execution_count": 1,
      "metadata": {},
      "outputs": [
        {
          "name": "stdout",
          "output_type": "stream",
          "text": [
            "\n",
            "\u001b[1m[\u001b[0m\u001b[34;49mnotice\u001b[0m\u001b[1;39;49m]\u001b[0m\u001b[39;49m A new release of pip is available: \u001b[0m\u001b[31;49m25.0.1\u001b[0m\u001b[39;49m -> \u001b[0m\u001b[32;49m25.2\u001b[0m\n",
            "\u001b[1m[\u001b[0m\u001b[34;49mnotice\u001b[0m\u001b[1;39;49m]\u001b[0m\u001b[39;49m To update, run: \u001b[0m\u001b[32;49mpython3.11 -m pip install --upgrade pip\u001b[0m\n",
            "Note: you may need to restart the kernel to use updated packages.\n"
          ]
        }
      ],
      "source": [
        "# Instalação\n",
        "%pip -q install diffusers==0.30.0 transformers accelerate safetensors \"imageio[ffmpeg]\" pillow\n"
      ]
    },
    {
      "cell_type": "code",
      "execution_count": null,
      "metadata": {},
      "outputs": [
        {
          "name": "stderr",
          "output_type": "stream",
          "text": [
            "/opt/homebrew/lib/python3.11/site-packages/tqdm/auto.py:21: TqdmWarning: IProgress not found. Please update jupyter and ipywidgets. See https://ipywidgets.readthedocs.io/en/stable/user_install.html\n",
            "  from .autonotebook import tqdm as notebook_tqdm\n"
          ]
        },
        {
          "name": "stdout",
          "output_type": "stream",
          "text": [
            "🎬 Iniciando geração com MOVIMENTO REAL do Homer...\n",
            "📊 Config: 512x512, 20 steps, 10 frames, strength=0.45\n",
            "✅ Homer carregado: (512, 512)\n"
          ]
        },
        {
          "name": "stderr",
          "output_type": "stream",
          "text": [
            "Loading pipeline components...: 100%|██████████| 6/6 [00:00<00:00, 34.53it/s]\n"
          ]
        },
        {
          "name": "stdout",
          "output_type": "stream",
          "text": [
            "✅ Pipeline de movimento pronto\n",
            "🎞️ Gerando 10 frames com MOVIMENTO REAL...\n",
            "  Frame 2/10: Homer Simpson, yellow skin, cartoon character, bli... "
          ]
        },
        {
          "name": "stderr",
          "output_type": "stream",
          "text": [
            "100%|██████████| 9/9 [00:26<00:00,  3.00s/it]\n"
          ]
        },
        {
          "name": "stdout",
          "output_type": "stream",
          "text": [
            "✅ (34.3s)\n",
            "  Frame 3/10: Homer Simpson, yellow skin, cartoon character, rai... "
          ]
        },
        {
          "name": "stderr",
          "output_type": "stream",
          "text": [
            "100%|██████████| 9/9 [00:26<00:00,  2.97s/it]\n"
          ]
        },
        {
          "name": "stdout",
          "output_type": "stream",
          "text": [
            "✅ (33.1s)\n",
            "  Frame 4/10: Homer Simpson, yellow skin, cartoon character, ope... "
          ]
        },
        {
          "name": "stderr",
          "output_type": "stream",
          "text": [
            "100%|██████████| 9/9 [00:25<00:00,  2.85s/it]\n"
          ]
        },
        {
          "name": "stdout",
          "output_type": "stream",
          "text": [
            "✅ (32.4s)\n",
            "  Frame 5/10: Homer Simpson, yellow skin, cartoon character, til... "
          ]
        },
        {
          "name": "stderr",
          "output_type": "stream",
          "text": [
            "100%|██████████| 9/9 [00:25<00:00,  2.89s/it]\n"
          ]
        },
        {
          "name": "stdout",
          "output_type": "stream",
          "text": [
            "✅ (32.4s)\n",
            "  Frame 6/10: Homer Simpson, yellow skin, cartoon character, low... "
          ]
        },
        {
          "name": "stderr",
          "output_type": "stream",
          "text": [
            "100%|██████████| 9/9 [00:25<00:00,  2.87s/it]\n"
          ]
        },
        {
          "name": "stdout",
          "output_type": "stream",
          "text": [
            "✅ (32.6s)\n",
            "  Frame 7/10: Homer Simpson, yellow skin, cartoon character, smi... "
          ]
        },
        {
          "name": "stderr",
          "output_type": "stream",
          "text": [
            "100%|██████████| 9/9 [00:24<00:00,  2.77s/it]\n"
          ]
        },
        {
          "name": "stdout",
          "output_type": "stream",
          "text": [
            "✅ (31.3s)\n",
            "  Frame 8/10: Homer Simpson, yellow skin, cartoon character, rai... "
          ]
        },
        {
          "name": "stderr",
          "output_type": "stream",
          "text": [
            "100%|██████████| 9/9 [00:25<00:00,  2.79s/it]\n"
          ]
        },
        {
          "name": "stdout",
          "output_type": "stream",
          "text": [
            "✅ (31.7s)\n",
            "  Frame 9/10: Homer Simpson, yellow skin, cartoon character, win... "
          ]
        },
        {
          "name": "stderr",
          "output_type": "stream",
          "text": [
            "100%|██████████| 9/9 [00:24<00:00,  2.74s/it]\n"
          ]
        },
        {
          "name": "stdout",
          "output_type": "stream",
          "text": [
            "✅ (30.9s)\n",
            "  Frame 10/10: Homer Simpson, yellow skin, cartoon character, nod... "
          ]
        },
        {
          "name": "stderr",
          "output_type": "stream",
          "text": [
            "100%|██████████| 9/9 [00:25<00:00,  2.86s/it]\n"
          ]
        },
        {
          "name": "stdout",
          "output_type": "stream",
          "text": [
            "✅ (32.4s)\n",
            "🎉 CONCLUÍDO em 292.3 segundos!\n",
            "✅ Vídeo salvo: output/homer_movimento_real.mp4\n",
            "📊 10 frames, 12 FPS, 512x512px\n",
            "⚡ Tempo médio por frame: 29.2s\n",
            "🎬 Resultado: Homer com movimento real e natural!\n"
          ]
        }
      ],
      "source": [
        "# 🎬 HOMER COM MOVIMENTO REAL: Sequência de ações naturais\n",
        "import os, numpy as np\n",
        "from PIL import Image\n",
        "import torch, imageio\n",
        "from diffusers import eImg2ImgPipeline, DPMSolverMultistepScheduler\n",
        "import time\n",
        "\n",
        "print(\"🎬 Iniciando geração com MOVIMENTO REAL do Homer...\")\n",
        "start_time = time.time()\n",
        "\n",
        "# Configuração para movimento\n",
        "model_id = \"runwayml/stable-diffusion-v1-5\"\n",
        "width, height = 512, 512\n",
        "width  = (width  // 8) * 8\n",
        "height = (height // 8) * 8\n",
        "steps, guidance, frames, fps = 20, 7.5, 10, 12\n",
        "strength = 0.45  # ← Balanceado para permitir movimento\n",
        "negative_prompt = \"blurry, low quality, distorted, deformed, ugly, disfigured, mutated, extra limbs, missing limbs, bad anatomy, bad proportions, malformed, different character, not Homer Simpson\"\n",
        "\n",
        "print(f\"📊 Config: {width}x{height}, {steps} steps, {frames} frames, strength={strength}\")\n",
        "\n",
        "# Carregar Homer\n",
        "img_path = \"/Users/alansms/stable_diffusion_video_generator/homer.png\"\n",
        "if not os.path.exists(img_path):\n",
        "    raise FileNotFoundError(f\"Imagem não encontrada: {img_path}\")\n",
        "init_img = Image.open(img_path).convert(\"RGB\").resize((width, height), Image.LANCZOS)\n",
        "print(f\"✅ Homer carregado: {init_img.size}\")\n",
        "\n",
        "# Pipeline\n",
        "device = \"cuda\" if torch.cuda.is_available() else \"cpu\"\n",
        "pipe = StableDiffusionImg2ImgPipeline.from_pretrained(\n",
        "    model_id,\n",
        "    torch_dtype=torch.float16 if device==\"cuda\" else torch.float32,\n",
        "    safety_checker=None,\n",
        "    requires_safety_checker=False,\n",
        ")\n",
        "pipe.scheduler = DPMSolverMultistepScheduler.from_config(pipe.scheduler.config)\n",
        "pipe = pipe.to(device)\n",
        "\n",
        "if device == \"cuda\":\n",
        "    pipe.enable_attention_slicing()\n",
        "\n",
        "print(\"✅ Pipeline de movimento pronto\")\n",
        "\n",
        "# SEQUÊNCIA DE MOVIMENTOS ESPECÍFICOS\n",
        "movement_sequence = [\n",
        "    \"Homer Simpson, yellow skin, cartoon character, blinking eyes, same pose\",\n",
        "    \"Homer Simpson, yellow skin, cartoon character, raising right arm slightly, same expression\", \n",
        "    \"Homer Simpson, yellow skin, cartoon character, opening mouth wider, surprised expression\",\n",
        "    \"Homer Simpson, yellow skin, cartoon character, tilting head slightly to the right\",\n",
        "    \"Homer Simpson, yellow skin, cartoon character, lowering arms, relaxed pose\",\n",
        "    \"Homer Simpson, yellow skin, cartoon character, smiling, happy expression\",\n",
        "    \"Homer Simpson, yellow skin, cartoon character, raising both arms higher, excited\",\n",
        "    \"Homer Simpson, yellow skin, cartoon character, winking with left eye\",\n",
        "    \"Homer Simpson, yellow skin, cartoon character, nodding head, agreeing gesture\",\n",
        "    \"Homer Simpson, yellow skin, cartoon character, original pose, returning to start\"\n",
        "]\n",
        "\n",
        "frames_list = [init_img]\n",
        "current = init_img\n",
        "\n",
        "print(f\"🎞️ Gerando {frames} frames com MOVIMENTO REAL...\")\n",
        "for i in range(1, frames):\n",
        "    frame_start = time.time()\n",
        "    prompt = movement_sequence[i-1]\n",
        "    print(f\"  Frame {i+1}/{frames}: {prompt[:50]}...\", end=\" \")\n",
        "    \n",
        "    out = pipe(\n",
        "        prompt=prompt,\n",
        "        negative_prompt=negative_prompt,\n",
        "        image=current,\n",
        "        strength=strength,  # ← Balanceado para movimento\n",
        "        num_inference_steps=steps,\n",
        "        guidance_scale=guidance,\n",
        "    )\n",
        "    \n",
        "    img = out.images[0]\n",
        "    if not isinstance(img, Image.Image):\n",
        "        img = Image.fromarray(np.array(img)).convert(\"RGB\")\n",
        "    \n",
        "    frames_list.append(img)\n",
        "    current = img\n",
        "    \n",
        "    frame_time = time.time() - frame_start\n",
        "    print(f\"✅ ({frame_time:.1f}s)\")\n",
        "\n",
        "# Exportar\n",
        "os.makedirs(\"output\", exist_ok=True)\n",
        "out_path = \"output/homer_movimento_real.mp4\"\n",
        "with imageio.get_writer(out_path, fps=fps, quality=8) as w:\n",
        "    for im in frames_list:\n",
        "        w.append_data(np.array(im.convert(\"RGB\")))\n",
        "\n",
        "total_time = time.time() - start_time\n",
        "print(f\"🎉 CONCLUÍDO em {total_time:.1f} segundos!\")\n",
        "print(f\"✅ Vídeo salvo: {out_path}\")\n",
        "print(f\"📊 {len(frames_list)} frames, {fps} FPS, {width}x{height}px\")\n",
        "print(f\"⚡ Tempo médio por frame: {total_time/frames:.1f}s\")\n",
        "print(\"🎬 Resultado: Homer com movimento real e natural!\")\n"
      ]
    },
    {
      "cell_type": "code",
      "execution_count": 4,
      "metadata": {},
      "outputs": [
        {
          "name": "stdout",
          "output_type": "stream",
          "text": [
            "🎭 Iniciando geração EXPRESSIVA do Homer...\n",
            "📊 Config: 512x512, 25 steps, 8 frames, strength=0.5\n",
            "✅ Homer carregado: (512, 512)\n"
          ]
        },
        {
          "name": "stderr",
          "output_type": "stream",
          "text": [
            "Loading pipeline components...: 100%|██████████| 6/6 [00:00<00:00, 31.73it/s]\n"
          ]
        },
        {
          "name": "stdout",
          "output_type": "stream",
          "text": [
            "✅ Pipeline expressivo pronto\n",
            "🎞️ Gerando 8 frames EXPRESSIVOS...\n",
            "  Frame 2/8: Homer Simpson, yellow skin, cartoon char... "
          ]
        },
        {
          "name": "stderr",
          "output_type": "stream",
          "text": [
            "100%|██████████| 12/12 [00:36<00:00,  3.07s/it]\n"
          ]
        },
        {
          "name": "stdout",
          "output_type": "stream",
          "text": [
            "✅ (44.2s)\n",
            "  Frame 3/8: Homer Simpson, yellow skin, cartoon char... "
          ]
        },
        {
          "name": "stderr",
          "output_type": "stream",
          "text": [
            "100%|██████████| 12/12 [00:33<00:00,  2.75s/it]\n"
          ]
        },
        {
          "name": "stdout",
          "output_type": "stream",
          "text": [
            "✅ (40.4s)\n",
            "  Frame 4/8: Homer Simpson, yellow skin, cartoon char... "
          ]
        },
        {
          "name": "stderr",
          "output_type": "stream",
          "text": [
            "100%|██████████| 12/12 [00:33<00:00,  2.81s/it]\n"
          ]
        },
        {
          "name": "stdout",
          "output_type": "stream",
          "text": [
            "✅ (40.2s)\n",
            "  Frame 5/8: Homer Simpson, yellow skin, cartoon char... "
          ]
        },
        {
          "name": "stderr",
          "output_type": "stream",
          "text": [
            "100%|██████████| 12/12 [00:34<00:00,  2.87s/it]\n"
          ]
        },
        {
          "name": "stdout",
          "output_type": "stream",
          "text": [
            "✅ (41.1s)\n",
            "  Frame 6/8: Homer Simpson, yellow skin, cartoon char... "
          ]
        },
        {
          "name": "stderr",
          "output_type": "stream",
          "text": [
            "100%|██████████| 12/12 [00:32<00:00,  2.70s/it]\n"
          ]
        },
        {
          "name": "stdout",
          "output_type": "stream",
          "text": [
            "✅ (39.2s)\n",
            "  Frame 7/8: Homer Simpson, yellow skin, cartoon char... "
          ]
        },
        {
          "name": "stderr",
          "output_type": "stream",
          "text": [
            "100%|██████████| 12/12 [00:34<00:00,  2.88s/it]\n"
          ]
        },
        {
          "name": "stdout",
          "output_type": "stream",
          "text": [
            "✅ (41.3s)\n",
            "  Frame 8/8: Homer Simpson, yellow skin, cartoon char... "
          ]
        },
        {
          "name": "stderr",
          "output_type": "stream",
          "text": [
            "100%|██████████| 12/12 [00:34<00:00,  2.84s/it]\n"
          ]
        },
        {
          "name": "stdout",
          "output_type": "stream",
          "text": [
            "✅ (40.8s)\n",
            "🎉 CONCLUÍDO em 288.2 segundos!\n",
            "✅ Vídeo salvo: output/homer_expressivo.mp4\n",
            "📊 8 frames, 12 FPS, 512x512px\n",
            "⚡ Tempo médio por frame: 36.0s\n",
            "🎭 Resultado: Homer com expressões dramáticas!\n"
          ]
        }
      ],
      "source": [
        "# 🎭 HOMER EXPRESSIVO: Movimentos mais dramáticos\n",
        "import os, numpy as np\n",
        "from PIL import Image\n",
        "import torch, imageio\n",
        "from diffusers import StableDiffusionImg2ImgPipeline, DPMSolverMultistepScheduler\n",
        "import time\n",
        "\n",
        "print(\"🎭 Iniciando geração EXPRESSIVA do Homer...\")\n",
        "start_time = time.time()\n",
        "\n",
        "# Configuração para expressões dramáticas\n",
        "model_id = \"runwayml/stable-diffusion-v1-5\"\n",
        "width, height = 512, 512\n",
        "width  = (width  // 8) * 8\n",
        "height = (height // 8) * 8\n",
        "steps, guidance, frames, fps = 25, 8.0, 8, 12\n",
        "strength = 0.5  # ← Mais alto para mudanças expressivas\n",
        "negative_prompt = \"blurry, low quality, distorted, deformed, ugly, disfigured, mutated, extra limbs, missing limbs, bad anatomy, bad proportions, malformed, different character, not Homer Simpson\"\n",
        "\n",
        "print(f\"📊 Config: {width}x{height}, {steps} steps, {frames} frames, strength={strength}\")\n",
        "\n",
        "# Carregar Homer\n",
        "img_path = \"/Users/alansms/stable_diffusion_video_generator/homer.png\"\n",
        "if not os.path.exists(img_path):\n",
        "    raise FileNotFoundError(f\"Imagem não encontrada: {img_path}\")\n",
        "init_img = Image.open(img_path).convert(\"RGB\").resize((width, height), Image.LANCZOS)\n",
        "print(f\"✅ Homer carregado: {init_img.size}\")\n",
        "\n",
        "# Pipeline\n",
        "device = \"cuda\" if torch.cuda.is_available() else \"cpu\"\n",
        "pipe = StableDiffusionImg2ImgPipeline.from_pretrained(\n",
        "    model_id,\n",
        "    torch_dtype=torch.float16 if device==\"cuda\" else torch.float32,\n",
        "    safety_checker=None,\n",
        "    requires_safety_checker=False,\n",
        ")\n",
        "pipe.scheduler = DPMSolverMultistepScheduler.from_config(pipe.scheduler.config)\n",
        "pipe = pipe.to(device)\n",
        "\n",
        "if device == \"cuda\":\n",
        "    pipe.enable_attention_slicing()\n",
        "\n",
        "print(\"✅ Pipeline expressivo pronto\")\n",
        "\n",
        "# SEQUÊNCIA DE EXPRESSÕES DRAMÁTICAS\n",
        "expressive_sequence = [\n",
        "    \"Homer Simpson, yellow skin, cartoon character, D'oh! expression, frustrated, arms down\",\n",
        "    \"Homer Simpson, yellow skin, cartoon character, excited, both arms raised high, big smile\", \n",
        "    \"Homer Simpson, yellow skin, cartoon character, surprised, mouth wide open, eyes wide\",\n",
        "    \"Homer Simpson, yellow skin, cartoon character, thinking pose, hand on chin, contemplative\",\n",
        "    \"Homer Simpson, yellow skin, cartoon character, laughing, both hands on belly, joyful\",\n",
        "    \"Homer Simpson, yellow skin, cartoon character, pointing forward, determined expression\",\n",
        "    \"Homer Simpson, yellow skin, cartoon character, shrugging shoulders, confused expression\",\n",
        "    \"Homer Simpson, yellow skin, cartoon character, original pose, returning to start\"\n",
        "]\n",
        "\n",
        "frames_list = [init_img]\n",
        "current = init_img\n",
        "\n",
        "print(f\"🎞️ Gerando {frames} frames EXPRESSIVOS...\")\n",
        "for i in range(1, frames):\n",
        "    frame_start = time.time()\n",
        "    prompt = expressive_sequence[i-1]\n",
        "    print(f\"  Frame {i+1}/{frames}: {prompt[:40]}...\", end=\" \")\n",
        "    \n",
        "    out = pipe(\n",
        "        prompt=prompt,\n",
        "        negative_prompt=negative_prompt,\n",
        "        image=current,\n",
        "        strength=strength,  # ← Mais alto para expressões\n",
        "        num_inference_steps=steps,\n",
        "        guidance_scale=guidance,\n",
        "    )\n",
        "    \n",
        "    img = out.images[0]\n",
        "    if not isinstance(img, Image.Image):\n",
        "        img = Image.fromarray(np.array(img)).convert(\"RGB\")\n",
        "    \n",
        "    frames_list.append(img)\n",
        "    current = img\n",
        "    \n",
        "    frame_time = time.time() - frame_start\n",
        "    print(f\"✅ ({frame_time:.1f}s)\")\n",
        "\n",
        "# Exportar\n",
        "os.makedirs(\"output\", exist_ok=True)\n",
        "out_path = \"output/homer_expressivo.mp4\"\n",
        "with imageio.get_writer(out_path, fps=fps, quality=8) as w:\n",
        "    for im in frames_list:\n",
        "        w.append_data(np.array(im.convert(\"RGB\")))\n",
        "\n",
        "total_time = time.time() - start_time\n",
        "print(f\"🎉 CONCLUÍDO em {total_time:.1f} segundos!\")\n",
        "print(f\"✅ Vídeo salvo: {out_path}\")\n",
        "print(f\"📊 {len(frames_list)} frames, {fps} FPS, {width}x{height}px\")\n",
        "print(f\"⚡ Tempo médio por frame: {total_time/frames:.1f}s\")\n",
        "print(\"🎭 Resultado: Homer com expressões dramáticas!\")\n"
      ]
    }
  ],
  "metadata": {
    "kernelspec": {
      "display_name": "Python 3",
      "language": "python",
      "name": "python3"
    },
    "language_info": {
      "codemirror_mode": {
        "name": "ipython",
        "version": 3
      },
      "file_extension": ".py",
      "mimetype": "text/x-python",
      "name": "python",
      "nbconvert_exporter": "python",
      "pygments_lexer": "ipython3",
      "version": "3.11.12"
    }
  },
  "nbformat": 4,
  "nbformat_minor": 2
}
