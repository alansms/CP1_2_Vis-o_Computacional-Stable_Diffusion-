{
  "cells": [
    {
      "cell_type": "markdown",
      "metadata": {},
      "source": [
        "# 🎬 MOVIMENTO REAL: Forçar Mudanças Dramáticas\n",
        "\n",
        "**Problema identificado:**\n",
        "- ❌ Stable Diffusion muito conservador\n",
        "- ❌ Apenas pequenas variações, sem movimento real\n",
        "- ❌ Strength baixo demais (0.3-0.5)\n",
        "\n",
        "**Solução:**\n",
        "- ✅ Strength ALTO (0.7-0.8) para mudanças dramáticas\n",
        "- ✅ Prompts que FORÇAM movimento específico\n",
        "- ✅ Sequência de poses completamente diferentes\n",
        "- ✅ Usar txt2img como fallback para mudanças maiores\n",
        "- ✅ Interpolação entre poses extremas\n"
      ]
    },
    {
      "cell_type": "code",
      "execution_count": null,
      "metadata": {},
      "outputs": [],
      "source": [
        "# Instalação\n",
        "%pip -q install diffusers==0.30.0 transformers accelerate safetensors \"imageio[ffmpeg]\" pillow\n"
      ]
    },
    {
      "cell_type": "code",
      "execution_count": null,
      "metadata": {},
      "outputs": [],
      "source": [
        "# 🎬 MOVIMENTO DRAMÁTICO: Strength ALTO + Poses Extremas\n",
        "import os, numpy as np\n",
        "from PIL import Image\n",
        "import torch, imageio\n",
        "from diffusers import StableDiffusionImg2ImgPipeline, StableDiffusionPipeline, DPMSolverMultistepScheduler\n",
        "import time\n",
        "\n",
        "print(\"🎬 Iniciando MOVIMENTO DRAMÁTICO do Homer...\")\n",
        "start_time = time.time()\n",
        "\n",
        "# Configuração para MOVIMENTO REAL\n",
        "model_id = \"runwayml/stable-diffusion-v1-5\"\n",
        "width, height = 512, 512\n",
        "width  = (width  // 8) * 8\n",
        "height = (height // 8) * 8\n",
        "steps, guidance, frames, fps = 20, 7.5, 8, 12\n",
        "strength = 0.75  # ← MUITO ALTO para forçar mudanças dramáticas\n",
        "negative_prompt = \"blurry, low quality, distorted, deformed, ugly, disfigured, mutated, extra limbs, missing limbs, bad anatomy, bad proportions, malformed, different character, not Homer Simpson\"\n",
        "\n",
        "print(f\"📊 Config: {width}x{height}, {steps} steps, {frames} frames, strength={strength}\")\n",
        "\n",
        "# Carregar Homer\n",
        "img_path = \"/Users/alansms/stable_diffusion_video_generator/homer.png\"\n",
        "if not os.path.exists(img_path):\n",
        "    raise FileNotFoundError(f\"Imagem não encontrada: {img_path}\")\n",
        "init_img = Image.open(img_path).convert(\"RGB\").resize((width, height), Image.LANCZOS)\n",
        "print(f\"✅ Homer carregado: {init_img.size}\")\n",
        "\n",
        "# Pipeline Img2Img + Txt2Img\n",
        "device = \"cuda\" if torch.cuda.is_available() else \"cpu\"\n",
        "pipe_img2img = StableDiffusionImg2ImgPipeline.from_pretrained(\n",
        "    model_id,\n",
        "    torch_dtype=torch.float16 if device==\"cuda\" else torch.float32,\n",
        "    safety_checker=None,\n",
        "    requires_safety_checker=False,\n",
        ")\n",
        "pipe_txt2img = StableDiffusionPipeline.from_pretrained(\n",
        "    model_id,\n",
        "    torch_dtype=torch.float16 if device==\"cuda\" else torch.float32,\n",
        "    safety_checker=None,\n",
        "    requires_safety_checker=False,\n",
        ")\n",
        "\n",
        "# Scheduler\n",
        "pipe_img2img.scheduler = DPMSolverMultistepScheduler.from_config(pipe_img2img.scheduler.config)\n",
        "pipe_txt2img.scheduler = DPMSolverMultistepScheduler.from_config(pipe_txt2img.scheduler.config)\n",
        "pipe_img2img = pipe_img2img.to(device)\n",
        "pipe_txt2img = pipe_txt2img.to(device)\n",
        "\n",
        "if device == \"cuda\":\n",
        "    pipe_img2img.enable_attention_slicing()\n",
        "    pipe_txt2img.enable_attention_slicing()\n",
        "\n",
        "print(\"✅ Pipelines prontos\")\n",
        "\n",
        "# SEQUÊNCIA DE POSES EXTREMAS (movimento real)\n",
        "dramatic_poses = [\n",
        "    \"Homer Simpson, yellow skin, cartoon character, arms down, relaxed pose\",\n",
        "    \"Homer Simpson, yellow skin, cartoon character, both arms raised high, excited, jumping pose\", \n",
        "    \"Homer Simpson, yellow skin, cartoon character, pointing forward with right arm, determined\",\n",
        "    \"Homer Simpson, yellow skin, cartoon character, hands on hips, confident pose\",\n",
        "    \"Homer Simpson, yellow skin, cartoon character, arms crossed, thinking pose\",\n",
        "    \"Homer Simpson, yellow skin, cartoon character, both hands on head, surprised, mouth open\",\n",
        "    \"Homer Simpson, yellow skin, cartoon character, one arm up, one arm down, dynamic pose\",\n",
        "    \"Homer Simpson, yellow skin, cartoon character, original pose, arms raised\"\n",
        "]\n",
        "\n",
        "frames_list = [init_img]\n",
        "current = init_img\n",
        "\n",
        "print(f\"🎞️ Gerando {frames} frames com MOVIMENTO DRAMÁTICO...\")\n",
        "for i in range(1, frames):\n",
        "    frame_start = time.time()\n",
        "    prompt = dramatic_poses[i-1]\n",
        "    print(f\"  Frame {i+1}/{frames}: {prompt[:40]}...\", end=\" \")\n",
        "    \n",
        "    # Tentar Img2Img com strength alto\n",
        "    try:\n",
        "        out = pipe_img2img(\n",
        "            prompt=prompt,\n",
        "            negative_prompt=negative_prompt,\n",
        "            image=current,\n",
        "            strength=strength,  # ← MUITO ALTO para mudanças dramáticas\n",
        "            num_inference_steps=steps,\n",
        "            guidance_scale=guidance,\n",
        "        )\n",
        "        img = out.images[0]\n",
        "    except Exception as e:\n",
        "        print(f\"Img2Img falhou, usando Txt2Img: {e}\")\n",
        "        # Fallback para Txt2Img para mudanças mais dramáticas\n",
        "        out = pipe_txt2img(\n",
        "            prompt=prompt,\n",
        "            negative_prompt=negative_prompt,\n",
        "            num_inference_steps=steps,\n",
        "            guidance_scale=guidance,\n",
        "        )\n",
        "        img = out.images[0]\n",
        "    \n",
        "    if not isinstance(img, Image.Image):\n",
        "        img = Image.fromarray(np.array(img)).convert(\"RGB\")\n",
        "    \n",
        "    frames_list.append(img)\n",
        "    current = img\n",
        "    \n",
        "    frame_time = time.time() - frame_start\n",
        "    print(f\"✅ ({frame_time:.1f}s)\")\n",
        "\n",
        "# Exportar\n",
        "os.makedirs(\"output\", exist_ok=True)\n",
        "out_path = \"output/homer_movimento_dramatico.mp4\"\n",
        "with imageio.get_writer(out_path, fps=fps, quality=8) as w:\n",
        "    for im in frames_list:\n",
        "        w.append_data(np.array(im.convert(\"RGB\")))\n",
        "\n",
        "total_time = time.time() - start_time\n",
        "print(f\"🎉 CONCLUÍDO em {total_time:.1f} segundos!\")\n",
        "print(f\"✅ Vídeo salvo: {out_path}\")\n",
        "print(f\"📊 {len(frames_list)} frames, {fps} FPS, {width}x{height}px\")\n",
        "print(f\"⚡ Tempo médio por frame: {total_time/frames:.1f}s\")\n",
        "print(\"🎬 Resultado: Homer com MOVIMENTO REAL e dramático!\")\n"
      ]
    },
    {
      "cell_type": "code",
      "execution_count": 1,
      "metadata": {},
      "outputs": [
        {
          "name": "stderr",
          "output_type": "stream",
          "text": [
            "/opt/homebrew/lib/python3.11/site-packages/tqdm/auto.py:21: TqdmWarning: IProgress not found. Please update jupyter and ipywidgets. See https://ipywidgets.readthedocs.io/en/stable/user_install.html\n",
            "  from .autonotebook import tqdm as notebook_tqdm\n"
          ]
        },
        {
          "name": "stdout",
          "output_type": "stream",
          "text": [
            "🚀 Iniciando MÉTODO HÍBRIDO para movimento máximo...\n",
            "📊 Config: 512x512, 20 steps, 6 frames\n",
            "✅ Homer carregado: (512, 512)\n"
          ]
        },
        {
          "name": "stderr",
          "output_type": "stream",
          "text": [
            "Loading pipeline components...: 100%|██████████| 6/6 [00:00<00:00, 36.17it/s]\n",
            "Loading pipeline components...: 100%|██████████| 6/6 [00:00<00:00, 47.27it/s]\n"
          ]
        },
        {
          "name": "stdout",
          "output_type": "stream",
          "text": [
            "✅ Pipelines híbridos prontos\n",
            "🎞️ Gerando 6 frames com MÉTODO HÍBRIDO...\n",
            "  Frame 2/6 (txt2img): Homer Simpson, yellow skin, cartoon char... "
          ]
        },
        {
          "name": "stderr",
          "output_type": "stream",
          "text": [
            "100%|██████████| 20/20 [00:57<00:00,  2.86s/it]\n"
          ]
        },
        {
          "name": "stdout",
          "output_type": "stream",
          "text": [
            "✅ (63.7s)\n",
            "  Frame 3/6 (img2img): Homer Simpson, yellow skin, cartoon char... "
          ]
        },
        {
          "name": "stderr",
          "output_type": "stream",
          "text": [
            "100%|██████████| 16/16 [00:43<00:00,  2.74s/it]\n"
          ]
        },
        {
          "name": "stdout",
          "output_type": "stream",
          "text": [
            "✅ (50.6s)\n",
            "  Frame 4/6 (txt2img): Homer Simpson, yellow skin, cartoon char... "
          ]
        },
        {
          "name": "stderr",
          "output_type": "stream",
          "text": [
            "100%|██████████| 20/20 [00:54<00:00,  2.71s/it]\n"
          ]
        },
        {
          "name": "stdout",
          "output_type": "stream",
          "text": [
            "✅ (60.4s)\n",
            "  Frame 5/6 (img2img): Homer Simpson, yellow skin, cartoon char... "
          ]
        },
        {
          "name": "stderr",
          "output_type": "stream",
          "text": [
            "100%|██████████| 14/14 [00:38<00:00,  2.72s/it]\n"
          ]
        },
        {
          "name": "stdout",
          "output_type": "stream",
          "text": [
            "✅ (45.0s)\n",
            "  Frame 6/6 (txt2img): Homer Simpson, yellow skin, cartoon char... "
          ]
        },
        {
          "name": "stderr",
          "output_type": "stream",
          "text": [
            "100%|██████████| 20/20 [00:55<00:00,  2.75s/it]\n"
          ]
        },
        {
          "name": "stdout",
          "output_type": "stream",
          "text": [
            "✅ (61.2s)\n",
            "🎉 CONCLUÍDO em 282.9 segundos!\n",
            "✅ Vídeo salvo: output/homer_hibrido_movimento.mp4\n",
            "📊 6 frames, 12 FPS, 512x512px\n",
            "⚡ Tempo médio por frame: 47.2s\n",
            "🚀 Resultado: Homer com MOVIMENTO MÁXIMO usando método híbrido!\n"
          ]
        }
      ],
      "source": [
        "# 🚀 MÉTODO HÍBRIDO: Txt2Img + Img2Img para movimento máximo\n",
        "import os, numpy as np\n",
        "from PIL import Image\n",
        "import torch, imageio\n",
        "from diffusers import StableDiffusionImg2ImgPipeline, StableDiffusionPipeline, DPMSolverMultistepScheduler\n",
        "import time\n",
        "\n",
        "print(\"🚀 Iniciando MÉTODO HÍBRIDO para movimento máximo...\")\n",
        "start_time = time.time()\n",
        "\n",
        "# Configuração híbrida\n",
        "model_id = \"runwayml/stable-diffusion-v1-5\"\n",
        "width, height = 512, 512\n",
        "width  = (width  // 8) * 8\n",
        "height = (height // 8) * 8\n",
        "steps, guidance, frames, fps = 20, 7.5, 6, 12\n",
        "negative_prompt = \"blurry, low quality, distorted, deformed, ugly, disfigured, mutated, extra limbs, missing limbs, bad anatomy, bad proportions, malformed, different character, not Homer Simpson\"\n",
        "\n",
        "print(f\"📊 Config: {width}x{height}, {steps} steps, {frames} frames\")\n",
        "\n",
        "# Carregar Homer\n",
        "img_path = \"/Users/alansms/stable_diffusion_video_generator/homer.png\"\n",
        "if not os.path.exists(img_path):\n",
        "    raise FileNotFoundError(f\"Imagem não encontrada: {img_path}\")\n",
        "init_img = Image.open(img_path).convert(\"RGB\").resize((width, height), Image.LANCZOS)\n",
        "print(f\"✅ Homer carregado: {init_img.size}\")\n",
        "\n",
        "# Pipelines\n",
        "device = \"cuda\" if torch.cuda.is_available() else \"cpu\"\n",
        "pipe_img2img = StableDiffusionImg2ImgPipeline.from_pretrained(\n",
        "    model_id,\n",
        "    torch_dtype=torch.float16 if device==\"cuda\" else torch.float32,\n",
        "    safety_checker=None,\n",
        "    requires_safety_checker=False,\n",
        ")\n",
        "pipe_txt2img = StableDiffusionPipeline.from_pretrained(\n",
        "    model_id,\n",
        "    torch_dtype=torch.float16 if device==\"cuda\" else torch.float32,\n",
        "    safety_checker=None,\n",
        "    requires_safety_checker=False,\n",
        ")\n",
        "\n",
        "pipe_img2img.scheduler = DPMSolverMultistepScheduler.from_config(pipe_img2img.scheduler.config)\n",
        "pipe_txt2img.scheduler = DPMSolverMultistepScheduler.from_config(pipe_txt2img.scheduler.config)\n",
        "pipe_img2img = pipe_img2img.to(device)\n",
        "pipe_txt2img = pipe_txt2img.to(device)\n",
        "\n",
        "if device == \"cuda\":\n",
        "    pipe_img2img.enable_attention_slicing()\n",
        "    pipe_txt2img.enable_attention_slicing()\n",
        "\n",
        "print(\"✅ Pipelines híbridos prontos\")\n",
        "\n",
        "# MÉTODO HÍBRIDO: Alternar entre Txt2Img e Img2Img\n",
        "hybrid_sequence = [\n",
        "    (\"txt2img\", \"Homer Simpson, yellow skin, cartoon character, arms down, relaxed pose\"),\n",
        "    (\"img2img\", \"Homer Simpson, yellow skin, cartoon character, both arms raised high, excited, jumping pose\", 0.8),\n",
        "    (\"txt2img\", \"Homer Simpson, yellow skin, cartoon character, pointing forward with right arm, determined\"),\n",
        "    (\"img2img\", \"Homer Simpson, yellow skin, cartoon character, hands on hips, confident pose\", 0.7),\n",
        "    (\"txt2img\", \"Homer Simpson, yellow skin, cartoon character, both hands on head, surprised, mouth open\"),\n",
        "    (\"img2img\", \"Homer Simpson, yellow skin, cartoon character, original pose, arms raised\", 0.6)\n",
        "]\n",
        "\n",
        "frames_list = [init_img]\n",
        "current = init_img\n",
        "\n",
        "print(f\"🎞️ Gerando {frames} frames com MÉTODO HÍBRIDO...\")\n",
        "for i in range(1, frames):\n",
        "    frame_start = time.time()\n",
        "    method, prompt, *strength_args = hybrid_sequence[i-1]\n",
        "    strength = strength_args[0] if strength_args else 0.7\n",
        "    \n",
        "    print(f\"  Frame {i+1}/{frames} ({method}): {prompt[:40]}...\", end=\" \")\n",
        "    \n",
        "    if method == \"txt2img\":\n",
        "        # Txt2Img para mudanças mais dramáticas\n",
        "        out = pipe_txt2img(\n",
        "            prompt=prompt,\n",
        "            negative_prompt=negative_prompt,\n",
        "            num_inference_steps=steps,\n",
        "            guidance_scale=guidance,\n",
        "        )\n",
        "    else:\n",
        "        # Img2Img com strength alto\n",
        "        out = pipe_img2img(\n",
        "            prompt=prompt,\n",
        "            negative_prompt=negative_prompt,\n",
        "            image=current,\n",
        "            strength=strength,\n",
        "            num_inference_steps=steps,\n",
        "            guidance_scale=guidance,\n",
        "        )\n",
        "    \n",
        "    img = out.images[0]\n",
        "    if not isinstance(img, Image.Image):\n",
        "        img = Image.fromarray(np.array(img)).convert(\"RGB\")\n",
        "    \n",
        "    frames_list.append(img)\n",
        "    current = img\n",
        "    \n",
        "    frame_time = time.time() - frame_start\n",
        "    print(f\"✅ ({frame_time:.1f}s)\")\n",
        "\n",
        "# Exportar\n",
        "os.makedirs(\"output\", exist_ok=True)\n",
        "out_path = \"output/homer_hibrido_movimento.mp4\"\n",
        "with imageio.get_writer(out_path, fps=fps, quality=8) as w:\n",
        "    for im in frames_list:\n",
        "        w.append_data(np.array(im.convert(\"RGB\")))\n",
        "\n",
        "total_time = time.time() - start_time\n",
        "print(f\"🎉 CONCLUÍDO em {total_time:.1f} segundos!\")\n",
        "print(f\"✅ Vídeo salvo: {out_path}\")\n",
        "print(f\"📊 {len(frames_list)} frames, {fps} FPS, {width}x{height}px\")\n",
        "print(f\"⚡ Tempo médio por frame: {total_time/frames:.1f}s\")\n",
        "print(\"🚀 Resultado: Homer com MOVIMENTO MÁXIMO usando método híbrido!\")\n"
      ]
    }
  ],
  "metadata": {
    "kernelspec": {
      "display_name": "Python 3",
      "language": "python",
      "name": "python3"
    },
    "language_info": {
      "codemirror_mode": {
        "name": "ipython",
        "version": 3
      },
      "file_extension": ".py",
      "mimetype": "text/x-python",
      "name": "python",
      "nbconvert_exporter": "python",
      "pygments_lexer": "ipython3",
      "version": "3.11.12"
    }
  },
  "nbformat": 4,
  "nbformat_minor": 2
}
