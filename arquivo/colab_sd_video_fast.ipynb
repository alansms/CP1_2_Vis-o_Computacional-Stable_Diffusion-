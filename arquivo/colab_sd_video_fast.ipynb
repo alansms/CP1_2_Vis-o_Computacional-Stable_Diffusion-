{
  "cells": [
    {
      "cell_type": "markdown",
      "metadata": {},
      "source": [
        "# ⚡ Notebook Otimizado: Geração Rápida com Retroalimentação\n",
        "\n",
        "**Estratégias de Performance:**\n",
        "- ✅ Menos passos de inferência (10-15 vs 20)\n",
        "- ✅ Dimensões menores (256x256 vs 512x512) \n",
        "- ✅ Menos frames (6-8 vs 12)\n",
        "- ✅ Strength otimizado (0.5-0.6)\n",
        "- ✅ Scheduler mais rápido\n",
        "- ✅ Pipeline otimizado\n",
        "\n",
        "**Tempo estimado:** 2-4 minutos total (vs 12-24 minutos)\n"
      ]
    },
    {
      "cell_type": "code",
      "execution_count": 1,
      "metadata": {},
      "outputs": [
        {
          "name": "stdout",
          "output_type": "stream",
          "text": [
            "\n",
            "\u001b[1m[\u001b[0m\u001b[34;49mnotice\u001b[0m\u001b[1;39;49m]\u001b[0m\u001b[39;49m A new release of pip is available: \u001b[0m\u001b[31;49m25.0.1\u001b[0m\u001b[39;49m -> \u001b[0m\u001b[32;49m25.2\u001b[0m\n",
            "\u001b[1m[\u001b[0m\u001b[34;49mnotice\u001b[0m\u001b[1;39;49m]\u001b[0m\u001b[39;49m To update, run: \u001b[0m\u001b[32;49mpython3.11 -m pip install --upgrade pip\u001b[0m\n",
            "Note: you may need to restart the kernel to use updated packages.\n"
          ]
        }
      ],
      "source": [
        "# Instalação rápida\n",
        "%pip -q install diffusers==0.30.0 transformers accelerate safetensors \"imageio[ffmpeg]\" pillow\n"
      ]
    },
    {
      "cell_type": "code",
      "execution_count": 3,
      "metadata": {},
      "outputs": [
        {
          "name": "stdout",
          "output_type": "stream",
          "text": [
            "⚡ Iniciando geração ULTRA-RÁPIDA...\n",
            "📊 Config: 256x256, 10 steps, 6 frames\n",
            "✅ Imagem carregada: (256, 256)\n",
            "🔧 Dispositivo: cpu\n"
          ]
        },
        {
          "name": "stderr",
          "output_type": "stream",
          "text": [
            "Loading pipeline components...: 100%|██████████| 6/6 [00:00<00:00, 35.64it/s]\n"
          ]
        },
        {
          "name": "stdout",
          "output_type": "stream",
          "text": [
            "✅ Pipeline otimizado pronto\n",
            "🎞️ Gerando 6 frames (modo rápido)...\n",
            "  Frame 2/6... "
          ]
        },
        {
          "name": "stderr",
          "output_type": "stream",
          "text": [
            "100%|██████████| 5/5 [00:07<00:00,  1.55s/it]\n"
          ]
        },
        {
          "name": "stdout",
          "output_type": "stream",
          "text": [
            "✅ (10.7s)\n",
            "  Frame 3/6... "
          ]
        },
        {
          "name": "stderr",
          "output_type": "stream",
          "text": [
            "100%|██████████| 5/5 [00:05<00:00,  1.04s/it]\n"
          ]
        },
        {
          "name": "stdout",
          "output_type": "stream",
          "text": [
            "✅ (7.8s)\n",
            "  Frame 4/6... "
          ]
        },
        {
          "name": "stderr",
          "output_type": "stream",
          "text": [
            "100%|██████████| 5/5 [00:04<00:00,  1.10it/s]\n"
          ]
        },
        {
          "name": "stdout",
          "output_type": "stream",
          "text": [
            "✅ (7.0s)\n",
            "  Frame 5/6... "
          ]
        },
        {
          "name": "stderr",
          "output_type": "stream",
          "text": [
            "100%|██████████| 5/5 [00:05<00:00,  1.00s/it]\n"
          ]
        },
        {
          "name": "stdout",
          "output_type": "stream",
          "text": [
            "✅ (6.9s)\n",
            "  Frame 6/6... "
          ]
        },
        {
          "name": "stderr",
          "output_type": "stream",
          "text": [
            "100%|██████████| 5/5 [00:05<00:00,  1.16s/it]\n"
          ]
        },
        {
          "name": "stdout",
          "output_type": "stream",
          "text": [
            "✅ (7.7s)\n",
            "🎉 CONCLUÍDO em 41.2 segundos!\n",
            "✅ Vídeo salvo: output/video_ultra_rapido.mp4\n",
            "📊 6 frames, 12 FPS, 256x256px\n",
            "⚡ Tempo médio por frame: 6.9s\n"
          ]
        }
      ],
      "source": [
        "# ⚡ VERSÃO ULTRA-RÁPIDA: 2-4 minutos total\n",
        "import os, numpy as np\n",
        "from PIL import Image\n",
        "import torch, imageio\n",
        "from diffusers import StableDiffusionImg2ImgPipeline, EulerDiscreteScheduler\n",
        "import time\n",
        "\n",
        "print(\"⚡ Iniciando geração ULTRA-RÁPIDA...\")\n",
        "start_time = time.time()\n",
        "\n",
        "# Configuração OTIMIZADA para velocidade\n",
        "model_id = \"runwayml/stable-diffusion-v1-5\"\n",
        "width, height = 256, 256  # ← MENOR = MAIS RÁPIDO\n",
        "width  = (width  // 8) * 8\n",
        "height = (height // 8) * 8\n",
        "steps, guidance, frames, fps = 10, 7.0, 6, 12  # ← MENOS STEPS + FRAMES\n",
        "strength = 0.5  # ← MAIS SUAVE = MAIS RÁPIDO\n",
        "negative_prompt = \"blurry, low quality\"\n",
        "\n",
        "print(f\"📊 Config: {width}x{height}, {steps} steps, {frames} frames\")\n",
        "\n",
        "# Carregar imagem\n",
        "img_path = \"/Users/alansms/stable_diffusion_video_generator/homer.png\"\n",
        "if not os.path.exists(img_path):\n",
        "    raise FileNotFoundError(f\"Imagem não encontrada: {img_path}\")\n",
        "init_img = Image.open(img_path).convert(\"RGB\").resize((width, height), Image.LANCZOS)\n",
        "print(f\"✅ Imagem carregada: {init_img.size}\")\n",
        "\n",
        "# Pipeline OTIMIZADO\n",
        "device = \"cuda\" if torch.cuda.is_available() else \"cpu\"\n",
        "print(f\"🔧 Dispositivo: {device}\")\n",
        "\n",
        "pipe = StableDiffusionImg2ImgPipeline.from_pretrained(\n",
        "    model_id,\n",
        "    torch_dtype=torch.float16 if device==\"cuda\" else torch.float32,\n",
        "    safety_checker=None,\n",
        "    requires_safety_checker=False,\n",
        ")\n",
        "\n",
        "# Scheduler MAIS RÁPIDO\n",
        "pipe.scheduler = EulerDiscreteScheduler.from_config(pipe.scheduler.config)\n",
        "pipe = pipe.to(device)\n",
        "\n",
        "# Otimizações adicionais\n",
        "if device == \"cuda\":\n",
        "    pipe.enable_attention_slicing()  # Reduz VRAM e acelera\n",
        "    pipe.enable_memory_efficient_attention()  # Otimização de memória\n",
        "\n",
        "print(\"✅ Pipeline otimizado pronto\")\n",
        "\n",
        "# Geração RÁPIDA\n",
        "base_prompt = \"cinematic, detailed, high quality, maintain original subject\"\n",
        "frames_list = [init_img]\n",
        "current = init_img\n",
        "\n",
        "print(f\"🎞️ Gerando {frames} frames (modo rápido)...\")\n",
        "for i in range(1, frames):\n",
        "    frame_start = time.time()\n",
        "    print(f\"  Frame {i+1}/{frames}...\", end=\" \")\n",
        "    \n",
        "    out = pipe(\n",
        "        prompt=base_prompt,\n",
        "        negative_prompt=negative_prompt,\n",
        "        image=current,\n",
        "        strength=strength,\n",
        "        num_inference_steps=steps,\n",
        "        guidance_scale=guidance,\n",
        "    )\n",
        "    \n",
        "    img = out.images[0]\n",
        "    if not isinstance(img, Image.Image):\n",
        "        img = Image.fromarray(np.array(img)).convert(\"RGB\")\n",
        "    \n",
        "    frames_list.append(img)\n",
        "    current = img\n",
        "    \n",
        "    frame_time = time.time() - frame_start\n",
        "    print(f\"✅ ({frame_time:.1f}s)\")\n",
        "\n",
        "# Exportar\n",
        "os.makedirs(\"output\", exist_ok=True)\n",
        "out_path = \"output/video_ultra_rapido.mp4\"\n",
        "with imageio.get_writer(out_path, fps=fps, quality=6) as w:  # quality=6 = mais rápido\n",
        "    for im in frames_list:\n",
        "        w.append_data(np.array(im.convert(\"RGB\")))\n",
        "\n",
        "total_time = time.time() - start_time\n",
        "print(f\"🎉 CONCLUÍDO em {total_time:.1f} segundos!\")\n",
        "print(f\"✅ Vídeo salvo: {out_path}\")\n",
        "print(f\"📊 {len(frames_list)} frames, {fps} FPS, {width}x{height}px\")\n",
        "print(f\"⚡ Tempo médio por frame: {total_time/frames:.1f}s\")\n"
      ]
    },
    {
      "cell_type": "code",
      "execution_count": 4,
      "metadata": {},
      "outputs": [
        {
          "name": "stdout",
          "output_type": "stream",
          "text": [
            "🚀 Iniciando geração BALANCEADA...\n",
            "📊 Config: 384x384, 15 steps, 8 frames\n",
            "✅ Imagem carregada: (384, 384)\n"
          ]
        },
        {
          "name": "stderr",
          "output_type": "stream",
          "text": [
            "Loading pipeline components...: 100%|██████████| 6/6 [00:00<00:00, 40.79it/s]\n"
          ]
        },
        {
          "name": "stdout",
          "output_type": "stream",
          "text": [
            "✅ Pipeline balanceado pronto\n",
            "🎞️ Gerando 8 frames (modo balanceado)...\n",
            "  Frame 2/8... "
          ]
        },
        {
          "name": "stderr",
          "output_type": "stream",
          "text": [
            "100%|██████████| 9/9 [00:13<00:00,  1.55s/it]\n"
          ]
        },
        {
          "name": "stdout",
          "output_type": "stream",
          "text": [
            "✅ (17.5s)\n",
            "  Frame 3/8... "
          ]
        },
        {
          "name": "stderr",
          "output_type": "stream",
          "text": [
            "100%|██████████| 9/9 [00:14<00:00,  1.63s/it]\n"
          ]
        },
        {
          "name": "stdout",
          "output_type": "stream",
          "text": [
            "✅ (18.0s)\n",
            "  Frame 4/8... "
          ]
        },
        {
          "name": "stderr",
          "output_type": "stream",
          "text": [
            "100%|██████████| 9/9 [00:14<00:00,  1.65s/it]\n"
          ]
        },
        {
          "name": "stdout",
          "output_type": "stream",
          "text": [
            "✅ (17.9s)\n",
            "  Frame 5/8... "
          ]
        },
        {
          "name": "stderr",
          "output_type": "stream",
          "text": [
            "100%|██████████| 9/9 [00:15<00:00,  1.68s/it]\n"
          ]
        },
        {
          "name": "stdout",
          "output_type": "stream",
          "text": [
            "✅ (18.2s)\n",
            "  Frame 6/8... "
          ]
        },
        {
          "name": "stderr",
          "output_type": "stream",
          "text": [
            "100%|██████████| 9/9 [00:13<00:00,  1.54s/it]\n"
          ]
        },
        {
          "name": "stdout",
          "output_type": "stream",
          "text": [
            "✅ (17.4s)\n",
            "  Frame 7/8... "
          ]
        },
        {
          "name": "stderr",
          "output_type": "stream",
          "text": [
            "100%|██████████| 9/9 [00:13<00:00,  1.49s/it]\n"
          ]
        },
        {
          "name": "stdout",
          "output_type": "stream",
          "text": [
            "✅ (16.8s)\n",
            "  Frame 8/8... "
          ]
        },
        {
          "name": "stderr",
          "output_type": "stream",
          "text": [
            "100%|██████████| 9/9 [00:13<00:00,  1.45s/it]\n"
          ]
        },
        {
          "name": "stdout",
          "output_type": "stream",
          "text": [
            "✅ (16.5s)\n",
            "🎉 CONCLUÍDO em 123.3 segundos!\n",
            "✅ Vídeo salvo: output/video_balanceado.mp4\n",
            "📊 8 frames, 12 FPS, 384x384px\n",
            "⚡ Tempo médio por frame: 15.4s\n"
          ]
        }
      ],
      "source": [
        "# 🚀 VERSÃO BALANCEADA: Qualidade vs Velocidade (4-6 minutos)\n",
        "import os, numpy as np\n",
        "from PIL import Image\n",
        "import torch, imageio\n",
        "from diffusers import StableDiffusionImg2ImgPipeline, DPMSolverMultistepScheduler\n",
        "import time\n",
        "\n",
        "print(\"🚀 Iniciando geração BALANCEADA...\")\n",
        "start_time = time.time()\n",
        "\n",
        "# Configuração BALANCEADA\n",
        "model_id = \"runwayml/stable-diffusion-v1-5\"\n",
        "width, height = 384, 384  # ← Tamanho médio\n",
        "width  = (width  // 8) * 8\n",
        "height = (height // 8) * 8\n",
        "steps, guidance, frames, fps = 15, 7.5, 8, 12  # ← Balanceado\n",
        "strength = 0.6\n",
        "negative_prompt = \"blurry, low quality, distorted\"\n",
        "\n",
        "print(f\"📊 Config: {width}x{height}, {steps} steps, {frames} frames\")\n",
        "\n",
        "# Carregar imagem\n",
        "img_path = \"/Users/alansms/stable_diffusion_video_generator/modelo-1.png\"\n",
        "if not os.path.exists(img_path):\n",
        "    raise FileNotFoundError(f\"Imagem não encontrada: {img_path}\")\n",
        "init_img = Image.open(img_path).convert(\"RGB\").resize((width, height), Image.LANCZOS)\n",
        "print(f\"✅ Imagem carregada: {init_img.size}\")\n",
        "\n",
        "# Pipeline\n",
        "device = \"cuda\" if torch.cuda.is_available() else \"cpu\"\n",
        "pipe = StableDiffusionImg2ImgPipeline.from_pretrained(\n",
        "    model_id,\n",
        "    torch_dtype=torch.float16 if device==\"cuda\" else torch.float32,\n",
        "    safety_checker=None,\n",
        "    requires_safety_checker=False,\n",
        ")\n",
        "pipe.scheduler = DPMSolverMultistepScheduler.from_config(pipe.scheduler.config)\n",
        "pipe = pipe.to(device)\n",
        "\n",
        "if device == \"cuda\":\n",
        "    pipe.enable_attention_slicing()\n",
        "\n",
        "print(\"✅ Pipeline balanceado pronto\")\n",
        "\n",
        "# Geração\n",
        "base_prompt = \"cinematic, detailed, high quality, maintain original subject\"\n",
        "frames_list = [init_img]\n",
        "current = init_img\n",
        "\n",
        "print(f\"🎞️ Gerando {frames} frames (modo balanceado)...\")\n",
        "for i in range(1, frames):\n",
        "    frame_start = time.time()\n",
        "    print(f\"  Frame {i+1}/{frames}...\", end=\" \")\n",
        "    \n",
        "    out = pipe(\n",
        "        prompt=base_prompt,\n",
        "        negative_prompt=negative_prompt,\n",
        "        image=current,\n",
        "        strength=strength,\n",
        "        num_inference_steps=steps,\n",
        "        guidance_scale=guidance,\n",
        "    )\n",
        "    \n",
        "    img = out.images[0]\n",
        "    if not isinstance(img, Image.Image):\n",
        "        img = Image.fromarray(np.array(img)).convert(\"RGB\")\n",
        "    \n",
        "    frames_list.append(img)\n",
        "    current = img\n",
        "    \n",
        "    frame_time = time.time() - frame_start\n",
        "    print(f\"✅ ({frame_time:.1f}s)\")\n",
        "\n",
        "# Exportar\n",
        "os.makedirs(\"output\", exist_ok=True)\n",
        "out_path = \"output/video_balanceado.mp4\"\n",
        "with imageio.get_writer(out_path, fps=fps, quality=8) as w:\n",
        "    for im in frames_list:\n",
        "        w.append_data(np.array(im.convert(\"RGB\")))\n",
        "\n",
        "total_time = time.time() - start_time\n",
        "print(f\"🎉 CONCLUÍDO em {total_time:.1f} segundos!\")\n",
        "print(f\"✅ Vídeo salvo: {out_path}\")\n",
        "print(f\"📊 {len(frames_list)} frames, {fps} FPS, {width}x{height}px\")\n",
        "print(f\"⚡ Tempo médio por frame: {total_time/frames:.1f}s\")\n"
      ]
    }
  ],
  "metadata": {
    "kernelspec": {
      "display_name": "Python 3",
      "language": "python",
      "name": "python3"
    },
    "language_info": {
      "codemirror_mode": {
        "name": "ipython",
        "version": 3
      },
      "file_extension": ".py",
      "mimetype": "text/x-python",
      "name": "python",
      "nbconvert_exporter": "python",
      "pygments_lexer": "ipython3",
      "version": "3.11.12"
    }
  },
  "nbformat": 4,
  "nbformat_minor": 2
}
