{
  "cells": [
    {
      "cell_type": "markdown",
      "metadata": {},
      "source": [
        "# 🎯 Notebook CORRIGIDO: Sem Distorção + Sequência Visual\n",
        "\n",
        "**Problemas identificados:**\n",
        "- ❌ Frames distorcidos e deformados\n",
        "- ❌ Perda de continuidade visual\n",
        "- ❌ Personagem não mantido consistentemente\n",
        "\n",
        "**Soluções aplicadas:**\n",
        "- ✅ Strength reduzido (0.3-0.4) para manter forma original\n",
        "- ✅ Prompts específicos para manter personagem\n",
        "- ✅ Negative prompts mais rigorosos\n",
        "- ✅ Dimensões otimizadas (512x512)\n",
        "- ✅ Scheduler mais estável\n"
      ]
    },
    {
      "cell_type": "code",
      "execution_count": 1,
      "metadata": {},
      "outputs": [
        {
          "name": "stdout",
          "output_type": "stream",
          "text": [
            "\n",
            "\u001b[1m[\u001b[0m\u001b[34;49mnotice\u001b[0m\u001b[1;39;49m]\u001b[0m\u001b[39;49m A new release of pip is available: \u001b[0m\u001b[31;49m25.0.1\u001b[0m\u001b[39;49m -> \u001b[0m\u001b[32;49m25.2\u001b[0m\n",
            "\u001b[1m[\u001b[0m\u001b[34;49mnotice\u001b[0m\u001b[1;39;49m]\u001b[0m\u001b[39;49m To update, run: \u001b[0m\u001b[32;49mpython3.11 -m pip install --upgrade pip\u001b[0m\n",
            "Note: you may need to restart the kernel to use updated packages.\n"
          ]
        }
      ],
      "source": [
        "# Instalação\n",
        "%pip -q install diffusers==0.30.0 transformers accelerate safetensors \"imageio[ffmpeg]\" pillow\n"
      ]
    },
    {
      "cell_type": "code",
      "execution_count": 2,
      "metadata": {},
      "outputs": [
        {
          "name": "stderr",
          "output_type": "stream",
          "text": [
            "/opt/homebrew/lib/python3.11/site-packages/tqdm/auto.py:21: TqdmWarning: IProgress not found. Please update jupyter and ipywidgets. See https://ipywidgets.readthedocs.io/en/stable/user_install.html\n",
            "  from .autonotebook import tqdm as notebook_tqdm\n"
          ]
        },
        {
          "name": "stdout",
          "output_type": "stream",
          "text": [
            "🎯 Iniciando geração CORRIGIDA (sem distorção)...\n",
            "📊 Config: 512x512, 20 steps, 8 frames, strength=0.35\n",
            "✅ Homer carregado: (512, 512)\n",
            "🔧 Dispositivo: cpu\n"
          ]
        },
        {
          "name": "stderr",
          "output_type": "stream",
          "text": [
            "Loading pipeline components...: 100%|██████████| 6/6 [00:00<00:00, 25.52it/s]\n"
          ]
        },
        {
          "name": "stdout",
          "output_type": "stream",
          "text": [
            "✅ Pipeline corrigido pronto\n",
            "🎞️ Gerando 8 frames (modo corrigido)...\n",
            "  Frame 2/8... "
          ]
        },
        {
          "name": "stderr",
          "output_type": "stream",
          "text": [
            "100%|██████████| 7/7 [00:26<00:00,  3.81s/it]\n"
          ]
        },
        {
          "name": "stdout",
          "output_type": "stream",
          "text": [
            "✅ (34.6s)\n",
            "  Frame 3/8... "
          ]
        },
        {
          "name": "stderr",
          "output_type": "stream",
          "text": [
            "100%|██████████| 7/7 [00:20<00:00,  2.95s/it]\n"
          ]
        },
        {
          "name": "stdout",
          "output_type": "stream",
          "text": [
            "✅ (28.1s)\n",
            "  Frame 4/8... "
          ]
        },
        {
          "name": "stderr",
          "output_type": "stream",
          "text": [
            "100%|██████████| 7/7 [00:19<00:00,  2.76s/it]\n"
          ]
        },
        {
          "name": "stdout",
          "output_type": "stream",
          "text": [
            "✅ (26.3s)\n",
            "  Frame 5/8... "
          ]
        },
        {
          "name": "stderr",
          "output_type": "stream",
          "text": [
            "100%|██████████| 7/7 [00:21<00:00,  3.07s/it]\n"
          ]
        },
        {
          "name": "stdout",
          "output_type": "stream",
          "text": [
            "✅ (28.1s)\n",
            "  Frame 6/8... "
          ]
        },
        {
          "name": "stderr",
          "output_type": "stream",
          "text": [
            "100%|██████████| 7/7 [00:21<00:00,  3.02s/it]\n"
          ]
        },
        {
          "name": "stdout",
          "output_type": "stream",
          "text": [
            "✅ (28.2s)\n",
            "  Frame 7/8... "
          ]
        },
        {
          "name": "stderr",
          "output_type": "stream",
          "text": [
            "100%|██████████| 7/7 [00:20<00:00,  2.87s/it]\n"
          ]
        },
        {
          "name": "stdout",
          "output_type": "stream",
          "text": [
            "✅ (26.7s)\n",
            "  Frame 8/8... "
          ]
        },
        {
          "name": "stderr",
          "output_type": "stream",
          "text": [
            "100%|██████████| 7/7 [00:21<00:00,  3.03s/it]\n"
          ]
        },
        {
          "name": "stdout",
          "output_type": "stream",
          "text": [
            "✅ (28.0s)\n",
            "🎉 CONCLUÍDO em 201.3 segundos!\n",
            "✅ Vídeo salvo: output/homer_corrigido.mp4\n",
            "📊 8 frames, 12 FPS, 512x512px\n",
            "⚡ Tempo médio por frame: 25.2s\n",
            "🎯 Resultado: Homer mantido sem distorção!\n"
          ]
        }
      ],
      "source": [
        "# 🎯 VERSÃO CORRIGIDA: Homer Simpson sem distorção\n",
        "import os, numpy as np\n",
        "from PIL import Image\n",
        "import torch, imageio\n",
        "from diffusers import StableDiffusionImg2ImgPipeline, DPMSolverMultistepScheduler\n",
        "import time\n",
        "\n",
        "print(\"🎯 Iniciando geração CORRIGIDA (sem distorção)...\")\n",
        "start_time = time.time()\n",
        "\n",
        "# Configuração CORRIGIDA para manter forma original\n",
        "model_id = \"runwayml/stable-diffusion-v1-5\"\n",
        "width, height = 512, 512  # ← Tamanho adequado para detalhes\n",
        "width  = (width  // 8) * 8\n",
        "height = (height // 8) * 8\n",
        "steps, guidance, frames, fps = 20, 7.5, 8, 12\n",
        "strength = 0.35  # ← MUITO BAIXO para manter forma original\n",
        "negative_prompt = \"blurry, low quality, distorted, deformed, ugly, disfigured, mutated, extra limbs, missing limbs, bad anatomy, bad proportions, malformed\"\n",
        "\n",
        "print(f\"📊 Config: {width}x{height}, {steps} steps, {frames} frames, strength={strength}\")\n",
        "\n",
        "# Carregar imagem do Homer\n",
        "img_path = \"/Users/alansms/stable_diffusion_video_generator/homer.png\"\n",
        "if not os.path.exists(img_path):\n",
        "    raise FileNotFoundError(f\"Imagem não encontrada: {img_path}\")\n",
        "init_img = Image.open(img_path).convert(\"RGB\").resize((width, height), Image.LANCZOS)\n",
        "print(f\"✅ Homer carregado: {init_img.size}\")\n",
        "\n",
        "# Pipeline com scheduler estável\n",
        "device = \"cuda\" if torch.cuda.is_available() else \"cpu\"\n",
        "print(f\"🔧 Dispositivo: {device}\")\n",
        "\n",
        "pipe = StableDiffusionImg2ImgPipeline.from_pretrained(\n",
        "    model_id,\n",
        "    torch_dtype=torch.float16 if device==\"cuda\" else torch.float32,\n",
        "    safety_checker=None,\n",
        "    requires_safety_checker=False,\n",
        ")\n",
        "\n",
        "# Scheduler mais estável\n",
        "pipe.scheduler = DPMSolverMultistepScheduler.from_config(pipe.scheduler.config)\n",
        "pipe = pipe.to(device)\n",
        "\n",
        "if device == \"cuda\":\n",
        "    pipe.enable_attention_slicing()\n",
        "\n",
        "print(\"✅ Pipeline corrigido pronto\")\n",
        "\n",
        "# Prompts específicos para manter Homer\n",
        "base_prompts = [\n",
        "    \"Homer Simpson, yellow skin, cartoon character, maintain original appearance, slight movement\",\n",
        "    \"Homer Simpson, yellow skin, cartoon character, maintain original appearance, gentle motion\",\n",
        "    \"Homer Simpson, yellow skin, cartoon character, maintain original appearance, subtle change\",\n",
        "    \"Homer Simpson, yellow skin, cartoon character, maintain original appearance, natural movement\",\n",
        "    \"Homer Simpson, yellow skin, cartoon character, maintain original appearance, smooth transition\",\n",
        "    \"Homer Simpson, yellow skin, cartoon character, maintain original appearance, consistent style\",\n",
        "    \"Homer Simpson, yellow skin, cartoon character, maintain original appearance, stable form\"\n",
        "]\n",
        "\n",
        "frames_list = [init_img]\n",
        "current = init_img\n",
        "\n",
        "print(f\"🎞️ Gerando {frames} frames (modo corrigido)...\")\n",
        "for i in range(1, frames):\n",
        "    frame_start = time.time()\n",
        "    prompt = base_prompts[(i-1) % len(base_prompts)]\n",
        "    print(f\"  Frame {i+1}/{frames}...\", end=\" \")\n",
        "    \n",
        "    out = pipe(\n",
        "        prompt=prompt,\n",
        "        negative_prompt=negative_prompt,\n",
        "        image=current,\n",
        "        strength=strength,  # ← MUITO BAIXO para manter forma\n",
        "        num_inference_steps=steps,\n",
        "        guidance_scale=guidance,\n",
        "    )\n",
        "    \n",
        "    img = out.images[0]\n",
        "    if not isinstance(img, Image.Image):\n",
        "        img = Image.fromarray(np.array(img)).convert(\"RGB\")\n",
        "    \n",
        "    frames_list.append(img)\n",
        "    current = img\n",
        "    \n",
        "    frame_time = time.time() - frame_start\n",
        "    print(f\"✅ ({frame_time:.1f}s)\")\n",
        "\n",
        "# Exportar\n",
        "os.makedirs(\"output\", exist_ok=True)\n",
        "out_path = \"output/homer_corrigido.mp4\"\n",
        "with imageio.get_writer(out_path, fps=fps, quality=8) as w:\n",
        "    for im in frames_list:\n",
        "        w.append_data(np.array(im.convert(\"RGB\")))\n",
        "\n",
        "total_time = time.time() - start_time\n",
        "print(f\"🎉 CONCLUÍDO em {total_time:.1f} segundos!\")\n",
        "print(f\"✅ Vídeo salvo: {out_path}\")\n",
        "print(f\"📊 {len(frames_list)} frames, {fps} FPS, {width}x{height}px\")\n",
        "print(f\"⚡ Tempo médio por frame: {total_time/frames:.1f}s\")\n",
        "print(\"🎯 Resultado: Homer mantido sem distorção!\")\n"
      ]
    },
    {
      "cell_type": "code",
      "execution_count": 3,
      "metadata": {},
      "outputs": [
        {
          "name": "stdout",
          "output_type": "stream",
          "text": [
            "🎨 Iniciando geração com INTERPOLAÇÃO SUAVE...\n",
            "📊 Config: 512x512, 25 steps, 6 frames, strength=0.25\n",
            "✅ Homer carregado: (512, 512)\n"
          ]
        },
        {
          "name": "stderr",
          "output_type": "stream",
          "text": [
            "Loading pipeline components...: 100%|██████████| 6/6 [00:00<00:00, 36.53it/s]\n"
          ]
        },
        {
          "name": "stdout",
          "output_type": "stream",
          "text": [
            "✅ Pipeline de interpolação pronto\n",
            "🎞️ Gerando 6 frames (interpolação suave)...\n",
            "  Frame 2/6... "
          ]
        },
        {
          "name": "stderr",
          "output_type": "stream",
          "text": [
            "100%|██████████| 6/6 [00:17<00:00,  2.84s/it]\n"
          ]
        },
        {
          "name": "stdout",
          "output_type": "stream",
          "text": [
            "✅ (23.9s)\n",
            "  Frame 3/6... "
          ]
        },
        {
          "name": "stderr",
          "output_type": "stream",
          "text": [
            "100%|██████████| 6/6 [00:19<00:00,  3.20s/it]\n"
          ]
        },
        {
          "name": "stdout",
          "output_type": "stream",
          "text": [
            "✅ (26.0s)\n",
            "  Frame 4/6... "
          ]
        },
        {
          "name": "stderr",
          "output_type": "stream",
          "text": [
            "100%|██████████| 6/6 [00:17<00:00,  2.91s/it]\n"
          ]
        },
        {
          "name": "stdout",
          "output_type": "stream",
          "text": [
            "✅ (24.4s)\n",
            "  Frame 5/6... "
          ]
        },
        {
          "name": "stderr",
          "output_type": "stream",
          "text": [
            "100%|██████████| 6/6 [00:17<00:00,  2.96s/it]\n"
          ]
        },
        {
          "name": "stdout",
          "output_type": "stream",
          "text": [
            "✅ (24.3s)\n",
            "  Frame 6/6... "
          ]
        },
        {
          "name": "stderr",
          "output_type": "stream",
          "text": [
            "100%|██████████| 6/6 [00:17<00:00,  2.84s/it]\n"
          ]
        },
        {
          "name": "stdout",
          "output_type": "stream",
          "text": [
            "✅ (23.3s)\n",
            "🎉 CONCLUÍDO em 123.0 segundos!\n",
            "✅ Vídeo salvo: output/homer_interpolacao_suave.mp4\n",
            "📊 6 frames, 12 FPS, 512x512px\n",
            "⚡ Tempo médio por frame: 20.5s\n",
            "🎨 Resultado: Homer com transições suaves!\n"
          ]
        }
      ],
      "source": [
        "# 🎨 VERSÃO ALTERNATIVA: Interpolação suave entre frames\n",
        "import os, numpy as np\n",
        "from PIL import Image\n",
        "import torch, imageio\n",
        "from diffusers import StableDiffusionImg2ImgPipeline, DPMSolverMultistepScheduler\n",
        "import time\n",
        "\n",
        "print(\"🎨 Iniciando geração com INTERPOLAÇÃO SUAVE...\")\n",
        "start_time = time.time()\n",
        "\n",
        "# Configuração para interpolação suave\n",
        "model_id = \"runwayml/stable-diffusion-v1-5\"\n",
        "width, height = 512, 512\n",
        "width  = (width  // 8) * 8\n",
        "height = (height // 8) * 8\n",
        "steps, guidance, frames, fps = 25, 8.0, 6, 12\n",
        "strength = 0.25  # ← AINDA MAIS BAIXO para transições suaves\n",
        "negative_prompt = \"blurry, low quality, distorted, deformed, ugly, disfigured, mutated, extra limbs, missing limbs, bad anatomy, bad proportions, malformed, inconsistent, different character\"\n",
        "\n",
        "print(f\"📊 Config: {width}x{height}, {steps} steps, {frames} frames, strength={strength}\")\n",
        "\n",
        "# Carregar Homer\n",
        "img_path = \"/Users/alansms/stable_diffusion_video_generator/homer.png\"\n",
        "if not os.path.exists(img_path):\n",
        "    raise FileNotFoundError(f\"Imagem não encontrada: {img_path}\")\n",
        "init_img = Image.open(img_path).convert(\"RGB\").resize((width, height), Image.LANCZOS)\n",
        "print(f\"✅ Homer carregado: {init_img.size}\")\n",
        "\n",
        "# Pipeline\n",
        "device = \"cuda\" if torch.cuda.is_available() else \"cpu\"\n",
        "pipe = StableDiffusionImg2ImgPipeline.from_pretrained(\n",
        "    model_id,\n",
        "    torch_dtype=torch.float16 if device==\"cuda\" else torch.float32,\n",
        "    safety_checker=None,\n",
        "    requires_safety_checker=False,\n",
        ")\n",
        "pipe.scheduler = DPMSolverMultistepScheduler.from_config(pipe.scheduler.config)\n",
        "pipe = pipe.to(device)\n",
        "\n",
        "if device == \"cuda\":\n",
        "    pipe.enable_attention_slicing()\n",
        "\n",
        "print(\"✅ Pipeline de interpolação pronto\")\n",
        "\n",
        "# Prompts para movimento suave\n",
        "movement_prompts = [\n",
        "    \"Homer Simpson, yellow skin, cartoon character, same appearance, very slight head movement\",\n",
        "    \"Homer Simpson, yellow skin, cartoon character, same appearance, gentle expression change\", \n",
        "    \"Homer Simpson, yellow skin, cartoon character, same appearance, subtle pose variation\",\n",
        "    \"Homer Simpson, yellow skin, cartoon character, same appearance, minimal movement\",\n",
        "    \"Homer Simpson, yellow skin, cartoon character, same appearance, consistent character\"\n",
        "]\n",
        "\n",
        "frames_list = [init_img]\n",
        "current = init_img\n",
        "\n",
        "print(f\"🎞️ Gerando {frames} frames (interpolação suave)...\")\n",
        "for i in range(1, frames):\n",
        "    frame_start = time.time()\n",
        "    prompt = movement_prompts[(i-1) % len(movement_prompts)]\n",
        "    print(f\"  Frame {i+1}/{frames}...\", end=\" \")\n",
        "    \n",
        "    out = pipe(\n",
        "        prompt=prompt,\n",
        "        negative_prompt=negative_prompt,\n",
        "        image=current,\n",
        "        strength=strength,  # ← MUITO BAIXO para transições suaves\n",
        "        num_inference_steps=steps,\n",
        "        guidance_scale=guidance,\n",
        "    )\n",
        "    \n",
        "    img = out.images[0]\n",
        "    if not isinstance(img, Image.Image):\n",
        "        img = Image.fromarray(np.array(img)).convert(\"RGB\")\n",
        "    \n",
        "    frames_list.append(img)\n",
        "    current = img\n",
        "    \n",
        "    frame_time = time.time() - frame_start\n",
        "    print(f\"✅ ({frame_time:.1f}s)\")\n",
        "\n",
        "# Exportar\n",
        "os.makedirs(\"output\", exist_ok=True)\n",
        "out_path = \"output/homer_interpolacao_suave.mp4\"\n",
        "with imageio.get_writer(out_path, fps=fps, quality=8) as w:\n",
        "    for im in frames_list:\n",
        "        w.append_data(np.array(im.convert(\"RGB\")))\n",
        "\n",
        "total_time = time.time() - start_time\n",
        "print(f\"🎉 CONCLUÍDO em {total_time:.1f} segundos!\")\n",
        "print(f\"✅ Vídeo salvo: {out_path}\")\n",
        "print(f\"📊 {len(frames_list)} frames, {fps} FPS, {width}x{height}px\")\n",
        "print(f\"⚡ Tempo médio por frame: {total_time/frames:.1f}s\")\n",
        "print(\"🎨 Resultado: Homer com transições suaves!\")\n"
      ]
    }
  ],
  "metadata": {
    "kernelspec": {
      "display_name": "Python 3",
      "language": "python",
      "name": "python3"
    },
    "language_info": {
      "codemirror_mode": {
        "name": "ipython",
        "version": 3
      },
      "file_extension": ".py",
      "mimetype": "text/x-python",
      "name": "python",
      "nbconvert_exporter": "python",
      "pygments_lexer": "ipython3",
      "version": "3.11.12"
    }
  },
  "nbformat": 4,
  "nbformat_minor": 2
}
