{
  "cells": [
    {
      "cell_type": "markdown",
      "metadata": {},
      "source": [
        "Instruções\n",
        "O desafio será construir um video a partir de imagens geradas pelo Stable Diffusion e que deverão ser retroalimentadas no modelo para gerar o próximo frame."
      ]
    },
    {
      "cell_type": "code",
      "execution_count": null,
      "metadata": {},
      "outputs": [],
      "source": [
        "# Instalação\n",
        "%pip -q install diffusers==0.30.0 transformers accelerate safetensors \"imageio[ffmpeg]\" pillow\n"
      ]
    },
    {
      "cell_type": "code",
      "execution_count": null,
      "metadata": {},
      "outputs": [
        {
          "name": "stdout",
          "output_type": "stream",
          "text": [
            "🎬 Iniciando CONTINUIDADE + MOVIMENTO...\n",
            "📊 Config: 512x512, 20 steps, 8 frames\n",
            "✅ Homer carregado: (512, 512)\n"
          ]
        },
        {
          "name": "stderr",
          "output_type": "stream",
          "text": [
            "Loading pipeline components...: 100%|██████████| 6/6 [00:00<00:00, 30.12it/s]\n"
          ]
        },
        {
          "name": "stdout",
          "output_type": "stream",
          "text": [
            "✅ Pipeline de continuidade pronto\n",
            "🎞️ Gerando 8 frames com CONTINUIDADE + MOVIMENTO...\n",
            "  Frame 2/8 (strength=0.6): Homer Simpson, yellow skin, cartoon char... "
          ]
        },
        {
          "name": "stderr",
          "output_type": "stream",
          "text": [
            "100%|██████████| 12/12 [00:37<00:00,  3.13s/it]\n"
          ]
        },
        {
          "name": "stdout",
          "output_type": "stream",
          "text": [
            "✅ (44.8s)\n",
            "  Frame 3/8 (strength=0.65): Homer Simpson, yellow skin, cartoon char... "
          ]
        },
        {
          "name": "stderr",
          "output_type": "stream",
          "text": [
            "100%|██████████| 13/13 [00:36<00:00,  2.83s/it]\n"
          ]
        },
        {
          "name": "stdout",
          "output_type": "stream",
          "text": [
            "✅ (43.7s)\n",
            "  Frame 4/8 (strength=0.7): Homer Simpson, yellow skin, cartoon char... "
          ]
        },
        {
          "name": "stderr",
          "output_type": "stream",
          "text": [
            "100%|██████████| 14/14 [00:39<00:00,  2.83s/it]\n"
          ]
        },
        {
          "name": "stdout",
          "output_type": "stream",
          "text": [
            "✅ (46.0s)\n",
            "  Frame 5/8 (strength=0.75): Homer Simpson, yellow skin, cartoon char... "
          ]
        },
        {
          "name": "stderr",
          "output_type": "stream",
          "text": [
            "100%|██████████| 15/15 [00:41<00:00,  2.79s/it]\n"
          ]
        },
        {
          "name": "stdout",
          "output_type": "stream",
          "text": [
            "✅ (48.2s)\n",
            "  Frame 6/8 (strength=0.8): Homer Simpson, yellow skin, cartoon char... "
          ]
        },
        {
          "name": "stderr",
          "output_type": "stream",
          "text": [
            "100%|██████████| 16/16 [00:43<00:00,  2.70s/it]\n"
          ]
        },
        {
          "name": "stdout",
          "output_type": "stream",
          "text": [
            "✅ (49.4s)\n",
            "  Frame 7/8 (strength=0.75): Homer Simpson, yellow skin, cartoon char... "
          ]
        },
        {
          "name": "stderr",
          "output_type": "stream",
          "text": [
            "100%|██████████| 15/15 [00:41<00:00,  2.80s/it]\n"
          ]
        },
        {
          "name": "stdout",
          "output_type": "stream",
          "text": [
            "✅ (49.4s)\n",
            "  Frame 8/8 (strength=0.7): Homer Simpson, yellow skin, cartoon char... "
          ]
        },
        {
          "name": "stderr",
          "output_type": "stream",
          "text": [
            "100%|██████████| 14/14 [00:39<00:00,  2.82s/it]\n"
          ]
        },
        {
          "name": "stdout",
          "output_type": "stream",
          "text": [
            "✅ (46.5s)\n",
            "🎉 CONCLUÍDO em 329.2 segundos!\n",
            "✅ Vídeo salvo: output/homer_continuidade_movimento.mp4\n",
            "📊 8 frames, 12 FPS, 512x512px\n",
            "⚡ Tempo médio por frame: 41.1s\n",
            "🎬 Resultado: Homer com CONTINUIDADE + MOVIMENTO REAL!\n"
          ]
        }
      ],
      "source": [
        "# 🎬 MOVIMENTO: Strength Progressivo\n",
        "import os, numpy as np\n",
        "from PIL import Image\n",
        "import torch, imageio\n",
        "from diffusers import StableDiffusionImg2ImgPipeline, DPMSolverMultistepScheduler\n",
        "import time\n",
        "\n",
        "print(\"🎬 Iniciando CONTINUIDADE + MOVIMENTO...\")\n",
        "start_time = time.time()\n",
        "\n",
        "# Configuração para continuidade + movimento\n",
        "model_id = \"runwayml/stable-diffusion-v1-5\"\n",
        "width, height = 512, 512\n",
        "width  = (width  // 8) * 8\n",
        "height = (height // 8) * 8\n",
        "steps, guidance, frames, fps = 20, 7.5, 8, 12\n",
        "negative_prompt = \"blurry, low quality, distorted, deformed, ugly, disfigured, mutated, extra limbs, missing limbs, bad anatomy, bad proportions, malformed, different character, not Homer Simpson\"\n",
        "\n",
        "print(f\"📊 Config: {width}x{height}, {steps} steps, {frames} frames\")\n",
        "\n",
        "# Carregar imagem\n",
        "img_path = \"/Users/alansms/stable_diffusion_video_generator/homer.png\"\n",
        "if not os.path.exists(img_path):\n",
        "    raise FileNotFoundError(f\"Imagem não encontrada: {img_path}\")\n",
        "init_img = Image.open(img_path).convert(\"RGB\").resize((width, height), Image.LANCZOS)\n",
        "print(f\"✅ Homer carregado: {init_img.size}\")\n",
        "\n",
        "# Pipeline APENAS Img2Img para continuidade\n",
        "device = \"cuda\" if torch.cuda.is_available() else \"cpu\"\n",
        "pipe = StableDiffusionImg2ImgPipeline.from_pretrained(\n",
        "    model_id,\n",
        "    torch_dtype=torch.float16 if device==\"cuda\" else torch.float32,\n",
        "    safety_checker=None,\n",
        "    requires_safety_checker=False,\n",
        ")\n",
        "\n",
        "pipe.scheduler = DPMSolverMultistepScheduler.from_config(pipe.scheduler.config)\n",
        "pipe = pipe.to(device)\n",
        "\n",
        "if device == \"cuda\":\n",
        "    pipe.enable_attention_slicing()\n",
        "\n",
        "print(\"✅ Pipeline de continuidade pronto\")\n",
        "\n",
        "# SEQUÊNCIA PROGRESSIVA: Movimento crescente com continuidade\n",
        "progressive_sequence = [\n",
        "    (\"Homer Simpson, yellow skin, cartoon character, arms slightly lowered, same expression\", 0.6),\n",
        "    (\"Homer Simpson, yellow skin, cartoon character, arms down, relaxed pose, gentle movement\", 0.65),\n",
        "    (\"Homer Simpson, yellow skin, cartoon character, right arm pointing forward, left arm down\", 0.7),\n",
        "    (\"Homer Simpson, yellow skin, cartoon character, both arms raised to shoulder height, excited\", 0.75),\n",
        "    (\"Homer Simpson, yellow skin, cartoon character, both arms raised high, very excited, jumping\", 0.8),\n",
        "    (\"Homer Simpson, yellow skin, cartoon character, hands on hips, confident pose\", 0.75),\n",
        "    (\"Homer Simpson, yellow skin, cartoon character, arms crossed, thinking pose\", 0.7),\n",
        "    (\"Homer Simpson, yellow skin, cartoon character, original pose, arms raised, returning\", 0.65)\n",
        "]\n",
        "\n",
        "frames_list = [init_img]\n",
        "current = init_img\n",
        "\n",
        "print(f\"🎞️ Gerando {frames} frames com CONTINUIDADE + MOVIMENTO...\")\n",
        "for i in range(1, frames):\n",
        "    frame_start = time.time()\n",
        "    prompt, strength = progressive_sequence[i-1]\n",
        "    print(f\"  Frame {i+1}/{frames} (strength={strength}): {prompt[:40]}...\", end=\" \")\n",
        "    \n",
        "    out = pipe(\n",
        "        prompt=prompt,\n",
        "        negative_prompt=negative_prompt,\n",
        "        image=current,\n",
        "        strength=strength,  # ← Strength progressivo\n",
        "        num_inference_steps=steps,\n",
        "        guidance_scale=guidance,\n",
        "    )\n",
        "    \n",
        "    img = out.images[0]\n",
        "    if not isinstance(img, Image.Image):\n",
        "        img = Image.fromarray(np.array(img)).convert(\"RGB\")\n",
        "    \n",
        "    frames_list.append(img)\n",
        "    current = img\n",
        "    \n",
        "    frame_time = time.time() - frame_start\n",
        "    print(f\"✅ ({frame_time:.1f}s)\")\n",
        "\n",
        "# Exportar\n",
        "os.makedirs(\"output\", exist_ok=True)\n",
        "out_path = \"output/homer_continuidade_movimento.mp4\"\n",
        "with imageio.get_writer(out_path, fps=fps, quality=8) as w:\n",
        "    for im in frames_list:\n",
        "        w.append_data(np.array(im.convert(\"RGB\")))\n",
        "\n",
        "total_time = time.time() - start_time\n",
        "print(f\"🎉 CONCLUÍDO em {total_time:.1f} segundos!\")\n",
        "print(f\"✅ Vídeo salvo: {out_path}\")\n",
        "print(f\"📊 {len(frames_list)} frames, {fps} FPS, {width}x{height}px\")\n",
        "print(f\"⚡ Tempo médio por frame: {total_time/frames:.1f}s\")\n",
        "print(\"🎬 Resultado: Homer com CONTINUIDADE + MOVIMENTO REAL!\")\n"
      ]
    },
    {
      "cell_type": "code",
      "execution_count": 1,
      "metadata": {},
      "outputs": [
        {
          "name": "stderr",
          "output_type": "stream",
          "text": [
            "/opt/homebrew/lib/python3.11/site-packages/tqdm/auto.py:21: TqdmWarning: IProgress not found. Please update jupyter and ipywidgets. See https://ipywidgets.readthedocs.io/en/stable/user_install.html\n",
            "  from .autonotebook import tqdm as notebook_tqdm\n"
          ]
        },
        {
          "name": "stdout",
          "output_type": "stream",
          "text": [
            "🎭 Iniciando MÉTODO AVANÇADO com interpolação...\n",
            "📊 Config: 512x512, 25 steps, 10 frames\n",
            "✅ Homer carregado: (512, 512)\n"
          ]
        },
        {
          "name": "stderr",
          "output_type": "stream",
          "text": [
            "Loading pipeline components...: 100%|██████████| 6/6 [00:00<00:00, 34.48it/s]\n"
          ]
        },
        {
          "name": "stdout",
          "output_type": "stream",
          "text": [
            "✅ Pipeline avançado pronto\n",
            "🎞️ Gerando 10 frames com INTERPOLAÇÃO AVANÇADA...\n",
            "  Frame 2/10 (strength=0.5): Homer Simpson, yellow skin, cartoon character, ori... "
          ]
        },
        {
          "name": "stderr",
          "output_type": "stream",
          "text": [
            "100%|██████████| 12/12 [00:36<00:00,  3.07s/it]\n"
          ]
        },
        {
          "name": "stdout",
          "output_type": "stream",
          "text": [
            "✅ (43.9s)\n",
            "  Frame 3/10 (strength=0.6): Homer Simpson, yellow skin, cartoon character, arm... "
          ]
        },
        {
          "name": "stderr",
          "output_type": "stream",
          "text": [
            "100%|██████████| 15/15 [00:41<00:00,  2.75s/it]\n"
          ]
        },
        {
          "name": "stdout",
          "output_type": "stream",
          "text": [
            "✅ (47.9s)\n",
            "  Frame 4/10 (strength=0.7): Homer Simpson, yellow skin, cartoon character, arm... "
          ]
        },
        {
          "name": "stderr",
          "output_type": "stream",
          "text": [
            "100%|██████████| 17/17 [00:46<00:00,  2.76s/it]\n"
          ]
        },
        {
          "name": "stdout",
          "output_type": "stream",
          "text": [
            "✅ (54.4s)\n",
            "  Frame 5/10 (strength=0.75): Homer Simpson, yellow skin, cartoon character, rig... "
          ]
        },
        {
          "name": "stderr",
          "output_type": "stream",
          "text": [
            "100%|██████████| 18/18 [00:51<00:00,  2.85s/it]\n"
          ]
        },
        {
          "name": "stdout",
          "output_type": "stream",
          "text": [
            "✅ (58.4s)\n",
            "  Frame 6/10 (strength=0.8): Homer Simpson, yellow skin, cartoon character, bot... "
          ]
        },
        {
          "name": "stderr",
          "output_type": "stream",
          "text": [
            "100%|██████████| 20/20 [00:54<00:00,  2.72s/it]\n"
          ]
        },
        {
          "name": "stdout",
          "output_type": "stream",
          "text": [
            "✅ (61.3s)\n",
            "  Frame 7/10 (strength=0.8): Homer Simpson, yellow skin, cartoon character, bot... "
          ]
        },
        {
          "name": "stderr",
          "output_type": "stream",
          "text": [
            "100%|██████████| 20/20 [00:56<00:00,  2.81s/it]\n"
          ]
        },
        {
          "name": "stdout",
          "output_type": "stream",
          "text": [
            "✅ (62.8s)\n",
            "  Frame 8/10 (strength=0.75): Homer Simpson, yellow skin, cartoon character, han... "
          ]
        },
        {
          "name": "stderr",
          "output_type": "stream",
          "text": [
            "100%|██████████| 18/18 [00:50<00:00,  2.80s/it]\n"
          ]
        },
        {
          "name": "stdout",
          "output_type": "stream",
          "text": [
            "✅ (56.8s)\n",
            "  Frame 9/10 (strength=0.7): Homer Simpson, yellow skin, cartoon character, arm... "
          ]
        },
        {
          "name": "stderr",
          "output_type": "stream",
          "text": [
            "100%|██████████| 17/17 [00:46<00:00,  2.74s/it]\n"
          ]
        },
        {
          "name": "stdout",
          "output_type": "stream",
          "text": [
            "✅ (53.7s)\n",
            "  Frame 10/10 (strength=0.6): Homer Simpson, yellow skin, cartoon character, ret... "
          ]
        },
        {
          "name": "stderr",
          "output_type": "stream",
          "text": [
            "100%|██████████| 15/15 [00:42<00:00,  2.81s/it]\n"
          ]
        },
        {
          "name": "stdout",
          "output_type": "stream",
          "text": [
            "✅ (48.9s)\n",
            "🎉 CONCLUÍDO em 489.3 segundos!\n",
            "✅ Vídeo salvo: output/homer_interpolacao_avancada.mp4\n",
            "📊 10 frames, 12 FPS, 512x512px\n",
            "⚡ Tempo médio por frame: 48.9s\n",
            "🎭 Resultado: Homer com INTERPOLAÇÃO AVANÇADA e continuidade!\n"
          ]
        }
      ],
      "source": [
        "# 🎭 MÉTODO AVANÇADO: Interpolação entre poses-chave\n",
        "import os, numpy as np\n",
        "from PIL import Image\n",
        "import torch, imageio\n",
        "from diffusers import StableDiffusionImg2ImgPipeline, DPMSolverMultistepScheduler\n",
        "import time\n",
        "\n",
        "print(\"🎭 Iniciando MÉTODO AVANÇADO com interpolação...\")\n",
        "start_time = time.time()\n",
        "\n",
        "# Configuração avançada\n",
        "model_id = \"runwayml/stable-diffusion-v1-5\"\n",
        "width, height = 512, 512\n",
        "width  = (width  // 8) * 8\n",
        "height = (height // 8) * 8\n",
        "steps, guidance, frames, fps = 25, 8.0, 10, 12\n",
        "negative_prompt = \"blurry, low quality, distorted, deformed, ugly, disfigured, mutated, extra limbs, missing limbs, bad anatomy, bad proportions, malformed, different character, not Homer Simpson\"\n",
        "\n",
        "print(f\"📊 Config: {width}x{height}, {steps} steps, {frames} frames\")\n",
        "\n",
        "# Carregar Homer\n",
        "img_path = \"/Users/alansms/stable_diffusion_video_generator/homer.png\"\n",
        "if not os.path.exists(img_path):\n",
        "    raise FileNotFoundError(f\"Imagem não encontrada: {img_path}\")\n",
        "init_img = Image.open(img_path).convert(\"RGB\").resize((width, height), Image.LANCZOS)\n",
        "print(f\"✅ Homer carregado: {init_img.size}\")\n",
        "\n",
        "# Pipeline\n",
        "device = \"cuda\" if torch.cuda.is_available() else \"cpu\"\n",
        "pipe = StableDiffusionImg2ImgPipeline.from_pretrained(\n",
        "    model_id,\n",
        "    torch_dtype=torch.float16 if device==\"cuda\" else torch.float32,\n",
        "    safety_checker=None,\n",
        "    requires_safety_checker=False,\n",
        ")\n",
        "\n",
        "pipe.scheduler = DPMSolverMultistepScheduler.from_config(pipe.scheduler.config)\n",
        "pipe = pipe.to(device)\n",
        "\n",
        "if device == \"cuda\":\n",
        "    pipe.enable_attention_slicing()\n",
        "\n",
        "print(\"✅ Pipeline avançado pronto\")\n",
        "\n",
        "# INTERPOLAÇÃO ENTRE POSES-CHAVE\n",
        "key_poses = [\n",
        "    (\"Homer Simpson, yellow skin, cartoon character, original pose, arms raised\", 0.5),\n",
        "    (\"Homer Simpson, yellow skin, cartoon character, arms slightly lowered, transition\", 0.6),\n",
        "    (\"Homer Simpson, yellow skin, cartoon character, arms down, relaxed, gentle movement\", 0.7),\n",
        "    (\"Homer Simpson, yellow skin, cartoon character, right arm pointing, left arm down\", 0.75),\n",
        "    (\"Homer Simpson, yellow skin, cartoon character, both arms to shoulders, excited\", 0.8),\n",
        "    (\"Homer Simpson, yellow skin, cartoon character, both arms raised high, very excited\", 0.8),\n",
        "    (\"Homer Simpson, yellow skin, cartoon character, hands on hips, confident\", 0.75),\n",
        "    (\"Homer Simpson, yellow skin, cartoon character, arms crossed, thinking\", 0.7),\n",
        "    (\"Homer Simpson, yellow skin, cartoon character, returning to original, arms up\", 0.6),\n",
        "    (\"Homer Simpson, yellow skin, cartoon character, original pose, arms raised\", 0.5)\n",
        "]\n",
        "\n",
        "frames_list = [init_img]\n",
        "current = init_img\n",
        "\n",
        "print(f\"🎞️ Gerando {frames} frames com INTERPOLAÇÃO AVANÇADA...\")\n",
        "for i in range(1, frames):\n",
        "    frame_start = time.time()\n",
        "    prompt, strength = key_poses[i-1]\n",
        "    print(f\"  Frame {i+1}/{frames} (strength={strength}): {prompt[:50]}...\", end=\" \")\n",
        "    \n",
        "    out = pipe(\n",
        "        prompt=prompt,\n",
        "        negative_prompt=negative_prompt,\n",
        "        image=current,\n",
        "        strength=strength,\n",
        "        num_inference_steps=steps,\n",
        "        guidance_scale=guidance,\n",
        "    )\n",
        "    \n",
        "    img = out.images[0]\n",
        "    if not isinstance(img, Image.Image):\n",
        "        img = Image.fromarray(np.array(img)).convert(\"RGB\")\n",
        "    \n",
        "    frames_list.append(img)\n",
        "    current = img\n",
        "    \n",
        "    frame_time = time.time() - frame_start\n",
        "    print(f\"✅ ({frame_time:.1f}s)\")\n",
        "\n",
        "# Exportar\n",
        "os.makedirs(\"output\", exist_ok=True)\n",
        "out_path = \"output/homer_interpolacao_avancada.mp4\"\n",
        "with imageio.get_writer(out_path, fps=fps, quality=8) as w:\n",
        "    for im in frames_list:\n",
        "        w.append_data(np.array(im.convert(\"RGB\")))\n",
        "\n",
        "total_time = time.time() - start_time\n",
        "print(f\"🎉 CONCLUÍDO em {total_time:.1f} segundos!\")\n",
        "print(f\"✅ Vídeo salvo: {out_path}\")\n",
        "print(f\"📊 {len(frames_list)} frames, {fps} FPS, {width}x{height}px\")\n",
        "print(f\"⚡ Tempo médio por frame: {total_time/frames:.1f}s\")\n",
        "print(\"🎭 Resultado: Homer com INTERPOLAÇÃO AVANÇADA e continuidade!\")\n"
      ]
    }
  ],
  "metadata": {
    "kernelspec": {
      "display_name": "Python 3",
      "language": "python",
      "name": "python3"
    },
    "language_info": {
      "codemirror_mode": {
        "name": "ipython",
        "version": 3
      },
      "file_extension": ".py",
      "mimetype": "text/x-python",
      "name": "python",
      "nbconvert_exporter": "python",
      "pygments_lexer": "ipython3",
      "version": "3.11.12"
    }
  },
  "nbformat": 4,
  "nbformat_minor": 2
}
